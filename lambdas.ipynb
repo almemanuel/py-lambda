{
  "nbformat": 4,
  "nbformat_minor": 0,
  "metadata": {
    "colab": {
      "name": "lambdas.ipynb",
      "provenance": [],
      "authorship_tag": "ABX9TyNFsGd+Zh+KdVcck1FNu8MM",
      "include_colab_link": true
    },
    "kernelspec": {
      "name": "python3",
      "display_name": "Python 3"
    },
    "language_info": {
      "name": "python"
    }
  },
  "cells": [
    {
      "cell_type": "markdown",
      "metadata": {
        "id": "view-in-github",
        "colab_type": "text"
      },
      "source": [
        "<a href=\"https://colab.research.google.com/github/almemanuel/py-lambda/blob/main/lambdas.ipynb\" target=\"_parent\"><img src=\"https://colab.research.google.com/assets/colab-badge.svg\" alt=\"Open In Colab\"/></a>"
      ]
    },
    {
      "cell_type": "markdown",
      "metadata": {
        "id": "4zqjWRxrTkI9"
      },
      "source": [
        "# Lambdas ou Funções Anônimas"
      ]
    },
    {
      "cell_type": "markdown",
      "metadata": {
        "id": "2N_eacHeTtRO"
      },
      "source": [
        "## Introdução\n",
        "Em Python, uma função é iniciada após a palavra reservada ```def```"
      ]
    },
    {
      "cell_type": "code",
      "metadata": {
        "id": "cZNTk4E_Td4X"
      },
      "source": [
        "def quadrado(x):\n",
        "  return x ** 2"
      ],
      "execution_count": 1,
      "outputs": []
    },
    {
      "cell_type": "code",
      "metadata": {
        "colab": {
          "base_uri": "https://localhost:8080/"
        },
        "id": "PuCtkY1jUS9J",
        "outputId": "1e31b788-e8e9-4946-a6ca-fad95a604541"
      },
      "source": [
        "quadrado(5)"
      ],
      "execution_count": 2,
      "outputs": [
        {
          "output_type": "execute_result",
          "data": {
            "text/plain": [
              "25"
            ]
          },
          "metadata": {},
          "execution_count": 2
        }
      ]
    },
    {
      "cell_type": "code",
      "metadata": {
        "colab": {
          "base_uri": "https://localhost:8080/"
        },
        "id": "g46YUA8nUWe0",
        "outputId": "b416b654-7e72-4384-a656-3958079e9578"
      },
      "source": [
        "type(quadrado)"
      ],
      "execution_count": 3,
      "outputs": [
        {
          "output_type": "execute_result",
          "data": {
            "text/plain": [
              "function"
            ]
          },
          "metadata": {},
          "execution_count": 3
        }
      ]
    },
    {
      "cell_type": "markdown",
      "metadata": {
        "id": "J1Xavra2Usok"
      },
      "source": [
        "```lambda``` é outra palavra reservada para escrever uma função"
      ]
    },
    {
      "cell_type": "code",
      "metadata": {
        "colab": {
          "base_uri": "https://localhost:8080/"
        },
        "id": "XhD5WYcSU2k7",
        "outputId": "634d9ec7-e884-4ed0-bbd6-25f50287e9d8"
      },
      "source": [
        "type(lambda x: x ** 2)"
      ],
      "execution_count": 4,
      "outputs": [
        {
          "output_type": "execute_result",
          "data": {
            "text/plain": [
              "function"
            ]
          },
          "metadata": {},
          "execution_count": 4
        }
      ]
    },
    {
      "cell_type": "code",
      "metadata": {
        "colab": {
          "base_uri": "https://localhost:8080/"
        },
        "id": "5CVoN4rkU94K",
        "outputId": "db86e852-5fab-4bd5-b390-2ca770348c6d"
      },
      "source": [
        "lambda x: x ** 2"
      ],
      "execution_count": 5,
      "outputs": [
        {
          "output_type": "execute_result",
          "data": {
            "text/plain": [
              "<function __main__.<lambda>>"
            ]
          },
          "metadata": {},
          "execution_count": 5
        }
      ]
    },
    {
      "cell_type": "code",
      "metadata": {
        "colab": {
          "base_uri": "https://localhost:8080/"
        },
        "id": "pGd9eOElVDub",
        "outputId": "79026bc5-0242-48c7-84d2-0a08b23ce262"
      },
      "source": [
        "(lambda x: x ** 2)(5)"
      ],
      "execution_count": 7,
      "outputs": [
        {
          "output_type": "execute_result",
          "data": {
            "text/plain": [
              "25"
            ]
          },
          "metadata": {},
          "execution_count": 7
        }
      ]
    },
    {
      "cell_type": "markdown",
      "metadata": {
        "id": "cKJ5zoRwVbGj"
      },
      "source": [
        "```def``` obriga a nomear a função e não retorna nada. ```lambda``` recebe um objeto e não possui um nome, sendo chamada apenas no momento em que ela é criada. No entanto, uma função anônima pode ser atribuída a uma variável, assim como ocorre com as funções definidas"
      ]
    },
    {
      "cell_type": "code",
      "metadata": {
        "colab": {
          "base_uri": "https://localhost:8080/"
        },
        "id": "W8V-i2ogVwH5",
        "outputId": "aa9df0aa-db67-4e65-b132-b1aa1572216e"
      },
      "source": [
        "minha_funcao = lambda x: x ** 2\n",
        "minha_funcao(5)"
      ],
      "execution_count": 8,
      "outputs": [
        {
          "output_type": "execute_result",
          "data": {
            "text/plain": [
              "25"
            ]
          },
          "metadata": {},
          "execution_count": 8
        }
      ]
    },
    {
      "cell_type": "code",
      "metadata": {
        "colab": {
          "base_uri": "https://localhost:8080/"
        },
        "id": "bpHzucrKWj96",
        "outputId": "6879ed56-7bb4-42ef-d8d1-4db0c0af35a4"
      },
      "source": [
        "minha_funcao = quadrado\n",
        "minha_funcao(5)"
      ],
      "execution_count": 10,
      "outputs": [
        {
          "output_type": "execute_result",
          "data": {
            "text/plain": [
              "25"
            ]
          },
          "metadata": {},
          "execution_count": 10
        }
      ]
    },
    {
      "cell_type": "markdown",
      "metadata": {
        "id": "0QccatfGW3L-"
      },
      "source": [
        "## Como Usar\n",
        "```Python\n",
        "lambda <parameters>: <return>\n",
        "```"
      ]
    },
    {
      "cell_type": "code",
      "metadata": {
        "colab": {
          "base_uri": "https://localhost:8080/"
        },
        "id": "VMWGf9ajXWAn",
        "outputId": "eca169c9-3782-48cb-8a5a-89205cc1ef7b"
      },
      "source": [
        "f = lambda a, b: a + b\n",
        "f(1, 41)"
      ],
      "execution_count": 14,
      "outputs": [
        {
          "output_type": "execute_result",
          "data": {
            "text/plain": [
              "42"
            ]
          },
          "metadata": {},
          "execution_count": 14
        }
      ]
    },
    {
      "cell_type": "code",
      "metadata": {
        "colab": {
          "base_uri": "https://localhost:8080/"
        },
        "id": "xTUDMDVYX1ED",
        "outputId": "9a17fb8f-e630-48c0-8d31-2d0723375c91"
      },
      "source": [
        "f = lambda *args: sum(args)\n",
        "f(1, 2, 3)"
      ],
      "execution_count": 15,
      "outputs": [
        {
          "output_type": "execute_result",
          "data": {
            "text/plain": [
              "6"
            ]
          },
          "metadata": {},
          "execution_count": 15
        }
      ]
    },
    {
      "cell_type": "code",
      "metadata": {
        "colab": {
          "base_uri": "https://localhost:8080/"
        },
        "id": "wY7LxsP1YAaT",
        "outputId": "f138114e-5b34-4f29-8697-714e562e5098"
      },
      "source": [
        "f = lambda **kwargs: sum(kwargs.values())\n",
        "f(primeiro = 1, segundo = 2, terceiro = 3)"
      ],
      "execution_count": 17,
      "outputs": [
        {
          "output_type": "execute_result",
          "data": {
            "text/plain": [
              "6"
            ]
          },
          "metadata": {},
          "execution_count": 17
        }
      ]
    },
    {
      "cell_type": "code",
      "metadata": {
        "colab": {
          "base_uri": "https://localhost:8080/",
          "height": 35
        },
        "id": "uT8fZIZVYRwJ",
        "outputId": "3ca97c36-9ee3-4a61-8c54-12a566242ad0"
      },
      "source": [
        "(lambda: 'hello, world')()"
      ],
      "execution_count": 20,
      "outputs": [
        {
          "output_type": "execute_result",
          "data": {
            "application/vnd.google.colaboratory.intrinsic+json": {
              "type": "string"
            },
            "text/plain": [
              "'hello, world'"
            ]
          },
          "metadata": {},
          "execution_count": 20
        }
      ]
    },
    {
      "cell_type": "markdown",
      "metadata": {
        "id": "2KDoj7NgYlJL"
      },
      "source": [
        "## Quando usar\n",
        "\n",
        "Lambdas são extremamente úteis para funções simples (como uma só linha) e que não necessitem de reutilização em outros contextos"
      ]
    },
    {
      "cell_type": "code",
      "metadata": {
        "id": "HL1hXvRmYnO1"
      },
      "source": [
        "alunos = [\"ALUNO_30\", \"ALUNO_01\", \"ALUNO_101\", \"ALUNO_20\", \"ALUNO_10\", \"ALUNO_100\"]"
      ],
      "execution_count": 21,
      "outputs": []
    },
    {
      "cell_type": "code",
      "metadata": {
        "colab": {
          "base_uri": "https://localhost:8080/"
        },
        "id": "o2J0JdBAY7ed",
        "outputId": "d1a6b66c-2efb-4de2-f048-588b19dee1e5"
      },
      "source": [
        "sorted(alunos)"
      ],
      "execution_count": 22,
      "outputs": [
        {
          "output_type": "execute_result",
          "data": {
            "text/plain": [
              "['ALUNO_01', 'ALUNO_10', 'ALUNO_100', 'ALUNO_101', 'ALUNO_20', 'ALUNO_30']"
            ]
          },
          "metadata": {},
          "execution_count": 22
        }
      ]
    },
    {
      "cell_type": "code",
      "metadata": {
        "colab": {
          "base_uri": "https://localhost:8080/"
        },
        "id": "m3AKuZNUZM_e",
        "outputId": "47a9737b-82a0-4161-a649-7042abe121d3"
      },
      "source": [
        "sorted(alunos, key=lambda x: int(x[6:]))"
      ],
      "execution_count": 23,
      "outputs": [
        {
          "output_type": "execute_result",
          "data": {
            "text/plain": [
              "['ALUNO_01', 'ALUNO_10', 'ALUNO_20', 'ALUNO_30', 'ALUNO_100', 'ALUNO_101']"
            ]
          },
          "metadata": {},
          "execution_count": 23
        }
      ]
    },
    {
      "cell_type": "code",
      "metadata": {
        "colab": {
          "base_uri": "https://localhost:8080/",
          "height": 35
        },
        "id": "p-IAteSVZV07",
        "outputId": "21ce0b23-f9de-40c0-a2e9-5165064a7028"
      },
      "source": [
        "'ALUNO_30'[6:]"
      ],
      "execution_count": 24,
      "outputs": [
        {
          "output_type": "execute_result",
          "data": {
            "application/vnd.google.colaboratory.intrinsic+json": {
              "type": "string"
            },
            "text/plain": [
              "'30'"
            ]
          },
          "metadata": {},
          "execution_count": 24
        }
      ]
    },
    {
      "cell_type": "code",
      "metadata": {
        "colab": {
          "base_uri": "https://localhost:8080/"
        },
        "id": "gqJE0MsdaJEA",
        "outputId": "0bcf5e6c-c8f9-46a7-e1c2-b5ea108784b3"
      },
      "source": [
        "funcoes = [\n",
        "           lambda x: x ** 2,\n",
        "           lambda x: x ** 3,\n",
        "           lambda x: x ** 4,\n",
        "]\n",
        "\n",
        "for f in funcoes:\n",
        "  print(f(5))"
      ],
      "execution_count": 25,
      "outputs": [
        {
          "output_type": "stream",
          "name": "stdout",
          "text": [
            "25\n",
            "125\n",
            "625\n"
          ]
        }
      ]
    },
    {
      "cell_type": "code",
      "metadata": {
        "colab": {
          "base_uri": "https://localhost:8080/"
        },
        "id": "x3uy4iy3bAxf",
        "outputId": "577a7593-2691-4d16-cbcc-7b9bcd2ef3af"
      },
      "source": [
        "nomes_upper = map(lambda x: x.upper(), [\"jack\", \"jake\"])\n",
        "list(nomes_upper)"
      ],
      "execution_count": 26,
      "outputs": [
        {
          "output_type": "execute_result",
          "data": {
            "text/plain": [
              "['JACK', 'JAKE']"
            ]
          },
          "metadata": {},
          "execution_count": 26
        }
      ]
    },
    {
      "cell_type": "code",
      "metadata": {
        "colab": {
          "base_uri": "https://localhost:8080/"
        },
        "id": "Lp0xLaXWbuaG",
        "outputId": "89ebd2a7-5f6a-4d55-e10d-080c846e6fa6"
      },
      "source": [
        "nomes_com_e = filter(lambda x: \"e\" in x, [\"jack\", \"jake\"])\n",
        "list(nomes_com_e)"
      ],
      "execution_count": 27,
      "outputs": [
        {
          "output_type": "execute_result",
          "data": {
            "text/plain": [
              "['jake']"
            ]
          },
          "metadata": {},
          "execution_count": 27
        }
      ]
    }
  ]
}